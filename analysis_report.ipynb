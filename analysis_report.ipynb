{
 "cells": [
  {
   "cell_type": "code",
   "execution_count": 3,
   "id": "a3202dde",
   "metadata": {},
   "outputs": [
    {
     "name": "stdout",
     "output_type": "stream",
     "text": [
      "            city        date          woj\n",
      "0       warszawa  2025-02-28  MAZOWIECKIE\n",
      "1        kartuzy  2025-03-03    POMORSKIE\n",
      "2      ciechanow  2025-02-21  MAZOWIECKIE\n",
      "3  bielsko-biala  2025-03-30      ŚLĄSKIE\n",
      "4      bienkowka  2025-04-20  MAŁOPOLSKIE\n",
      "\n",
      "###CONCESSION DATAFRAME###\n",
      "\n",
      "            city        date          woj\n",
      "0       warszawa  2025-02-28  MAZOWIECKIE\n",
      "1        kartuzy  2025-03-03    POMORSKIE\n",
      "2      ciechanow  2025-02-21  MAZOWIECKIE\n",
      "3  bielsko-biala  2025-03-30      ŚLĄSKIE\n",
      "4      bienkowka  2025-04-20  MAŁOPOLSKIE\n",
      "\n",
      "###EVENTS DATAFRAME###\n",
      "\n",
      "   Nr KP/M PSP  RAZEM Pożar (P)  Mały (P/M)  Średni (P/Ś)  Duży (P/D)  \\\n",
      "0       101000             2301        2257            39           5   \n",
      "1       103000              468         453            14           1   \n",
      "2       104000              302         295             6           1   \n",
      "3       105000              303         291            11           1   \n",
      "4       106000              151         139            10           1   \n",
      "\n",
      "   Bardzo duży (P/BD)  RAZEM Miejscowe zagrożenie (MZ)  Małe (MZ/M)  \\\n",
      "0                   0                             7051         1711   \n",
      "1                   0                             1246          172   \n",
      "2                   0                             1002          201   \n",
      "3                   0                              620           17   \n",
      "4                   1                              503          159   \n",
      "\n",
      "   Lokalne (MZ/L)  Średnie (MZ/Ś)  Duże (MZ/D)  \\\n",
      "0            5073             258            8   \n",
      "1            1008              57            9   \n",
      "2             769              31            1   \n",
      "3             543              46           14   \n",
      "4             320              22            2   \n",
      "\n",
      "   Gigantyczne lub klęska żywiołowa (MZ/K)  RAZEM Alarm fałszywy (AF)  \\\n",
      "0                                        1                       2242   \n",
      "1                                        0                        142   \n",
      "2                                        0                         93   \n",
      "3                                        0                        156   \n",
      "4                                        0                         19   \n",
      "\n",
      "   Złośliwy (A/Z)  W dobrej wierze (A/DW)  Z instalacji wykrywania (A/IW)  \\\n",
      "0              73                     983                            1186   \n",
      "1              12                      94                              36   \n",
      "2              11                      63                              19   \n",
      "3               2                     144                              10   \n",
      "4               0                      17                               2   \n",
      "\n",
      "   OGÓŁEM         city  \n",
      "0   11594      wroclaw  \n",
      "1    1856  boleslawiec  \n",
      "2    1397  dzierzoniow  \n",
      "3    1079       glogow  \n",
      "4     673         gora  \n",
      "\n",
      "###CITIES DATAFRAME###\n",
      "\n",
      "                   city         tag Szerokość Długość     lon     lat\n",
      "0                adamow  siedleckie    1°45'N  2°15'E  2.2500  1.7500\n",
      "1                adamow   zamojskie    0°36'N  3°10'E  3.1667  0.6000\n",
      "2              adamowka         NaN    0°16'N  2°42'E  2.7000  0.2667\n",
      "3           aleksandrow         NaN    1°16'N  9°59'E  9.9833  1.2667\n",
      "4  aleksandrow kujawski         NaN    2°53'N  8°42'E  8.7000  2.8833\n"
     ]
    }
   ],
   "source": [
    "from alco_analysis.loading_data import load_data\n",
    "from alco_analysis.correlation import *\n",
    "from alco_analysis.stats import count_concession, summary, merge_df_on_city, different_correlations\n",
    "\n",
    "df_conc, df_events, df_cities = load_data(\"data/concession.csv\", \n",
    "                                                     \"data/events.csv\",\n",
    "                                                     \"data/cities.csv\")"
   ]
  },
  {
   "cell_type": "code",
   "execution_count": null,
   "id": "d49059b6",
   "metadata": {},
   "outputs": [
    {
     "name": "stdout",
     "output_type": "stream",
     "text": [
      "MERGED CONCESSION DATA FRAME AND CITIES -> LOCALIZATION OF EVERY CONCESSION\n",
      "Dopasowane   : 394\n",
      "Niedopasowane: 33\n",
      "Nie­użyte     : 0\n",
      "Koncesje bez lokalizacji przydzielonego miasta\n",
      "['bienkowka' 'nowy  tomysl' 'bielsko - biala' 'libertow' 'dobron'\n",
      " 'banska nizna' 'tenczynek' 'stare stracze' 'modlniczka' 'tomaszkowo'\n",
      " 'dziekanow nowy' 'poronin' 'wegrzce' 'uciechow' 'kokoszkowy' 'siedlecin'\n",
      " 'weglowice' 'proszowki' 'zascianki' 'srock' 'chelm slaski' 'dys'\n",
      " 'busko-zdroj' 'plock-biala' 'stary bartkow' 'sekocin nowy' 'miedzychow'\n",
      " 'zbylitowska gora' 'nowiny' 'gilowice' 'stare proboszczewice' 'wolkowo']\n",
      "Dropping 7.73% of data\n"
     ]
    }
   ],
   "source": [
    "merged = (df_conc\n",
    "          .merge(df_cities,\n",
    "                 on=['city'],\n",
    "                 how='left',          \n",
    "                 indicator=True)) \n",
    "print(\"MERGED CONCESSION DATA FRAME AND CITIES -> LOCALIZATION OF EVERY CONCESSION\")\n",
    "# print(merged.head())\n",
    "\n",
    "vc = merged['_merge'].value_counts()\n",
    "\n",
    "print(\"Dopasowane   :\", vc.get('both', 0))\n",
    "print(\"Niedopasowane:\", vc.get('left_only', 0))\n",
    "print(\"Nie­użyte     :\", vc.get('right_only', 0))\n",
    "\n",
    "missing = merged.loc[merged['_merge'] == 'left_only', 'city']\n",
    "\n",
    "print(\"Koncesje bez lokalizacji przydzielonego miasta\")\n",
    "print(missing.unique())\n",
    "percent = vc.get('left_only', 0)/(vc.get('both', 0) + vc.get('left_only', 0))*100\n",
    "\n",
    "print(f\"\\n### Dropping {percent:.2f}% of data ###\")\n",
    "merged.dropna(subset=[\"lon\", \"lat\"], inplace=True)"
   ]
  },
  {
   "cell_type": "markdown",
   "id": "f78ea409",
   "metadata": {},
   "source": [
    "# Obliczanie korelacji między pożarami a merged (koncesje & lokalizacja)"
   ]
  },
  {
   "cell_type": "code",
   "execution_count": 18,
   "id": "0a01411d",
   "metadata": {},
   "outputs": [
    {
     "name": "stdout",
     "output_type": "stream",
     "text": [
      "                     city  Liczba_koncesji\n",
      "0    aleksandrow kujawski                1\n",
      "1               bialogard                1\n",
      "2               bialystok                6\n",
      "3         bielsk podlaski                1\n",
      "4           bielsko-biala                5\n",
      "..                    ...              ...\n",
      "176          zdunska wola                2\n",
      "177              zelazkow                1\n",
      "178          zielona gora                3\n",
      "179              zyrardow                1\n",
      "180                zywiec                2\n",
      "\n",
      "[181 rows x 2 columns]\n",
      "Pearson = 0.779\n"
     ]
    }
   ],
   "source": [
    "df_conc_count = count_concession(merged)\n",
    "\n",
    "df_corr = (df_conc_count.merge(df_events, on='city', how='inner'))\n",
    "\n",
    "\n",
    "print(df_conc_count)\n",
    "pearson = df_corr[['Liczba_koncesji', 'RAZEM Pożar (P)']].corr().iloc[0,1]\n",
    "print(\"Pearson =\", round(pearson, 3))"
   ]
  }
 ],
 "metadata": {
  "kernelspec": {
   "display_name": ".venv",
   "language": "python",
   "name": "python3"
  },
  "language_info": {
   "codemirror_mode": {
    "name": "ipython",
    "version": 3
   },
   "file_extension": ".py",
   "mimetype": "text/x-python",
   "name": "python",
   "nbconvert_exporter": "python",
   "pygments_lexer": "ipython3",
   "version": "3.11.12"
  }
 },
 "nbformat": 4,
 "nbformat_minor": 5
}
