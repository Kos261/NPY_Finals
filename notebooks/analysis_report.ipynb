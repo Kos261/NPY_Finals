{
 "cells": [
  {
   "cell_type": "markdown",
   "id": "19630e39",
   "metadata": {},
   "source": [
    "# Package functions presentation (Krótkie wyjaśnienie funkcji pakietu statystycznego)\n",
    "Autor: Konstanty Kłosiewicz student MIMUW\n",
    "\n",
    "### Ładowanie danych i krótkie podsumowanie"
   ]
  },
  {
   "cell_type": "code",
   "execution_count": 2,
   "id": "a3202dde",
   "metadata": {},
   "outputs": [],
   "source": [
    "from alco_analysis.io import load_data\n",
    "from alco_analysis.stats import summary\n",
    "from pathlib import Path\n",
    "\n",
    "# df_conc, df_events, df_cities, df_pop = load_data(\n",
    "#                                           \"../data/concession.csv\", \n",
    "#                                           \"../data/events.csv\",\n",
    "#                                           \"../data/cities.csv\", \n",
    "#                                           \"../data/rezydenci_2023.xlsx\",\n",
    "#                                           debug=False)\n",
    "# output_folder = Path(\"..\", \"output\")\n",
    "# output_folder.mkdir(parents=True, exist_ok=True)\n",
    "\n",
    "file_conc   = Path(input(\"Ścieżka do concession.csv: \").strip())\n",
    "file_events   = Path(input(\"Ścieżka do events.csv: \").strip())\n",
    "file_cities   = Path(input(\"Ścieżka do cities.csv: \").strip())\n",
    "file_pop  = Path(input(\"Ścieżka do rezydenci_20XX.xlsx: \").strip())\n",
    "output_folder = Path(input(\"Folder na output: \").strip())\n",
    "\n",
    "assert file_conc.exists(),  f\"Nie znaleziono {file_conc}\"\n",
    "assert file_events.exists(),  f\"Nie znaleziono {file_events}\"\n",
    "assert file_cities.exists(),  f\"Nie znaleziono {file_cities}\"\n",
    "assert file_pop.exists(),  f\"Nie znaleziono {file_pop}\"\n",
    "\n",
    "if file_conc and file_events and file_cities and file_pop:\n",
    "    df_conc, df_events, df_cities, df_pop = load_data(file_conc,\n",
    "                                                      file_events,\n",
    "                                                      file_cities,\n",
    "                                                      file_pop)\n",
    "\n",
    "summary(output_folder, df_conc, df_cities, df_events, df_pop)"
   ]
  },
  {
   "cell_type": "markdown",
   "id": "b2ad374e",
   "metadata": {},
   "source": [
    "### Funkcje agregacyjne"
   ]
  },
  {
   "cell_type": "code",
   "execution_count": 3,
   "id": "d49059b6",
   "metadata": {},
   "outputs": [
    {
     "name": "stdout",
     "output_type": "stream",
     "text": [
      "Dopasowane   : 392\n",
      "Niedopasowane: 33\n",
      "Nie­użyte     : 0\n",
      "Koncesje bez lokalizacji przydzielonego miasta\n",
      "['bienkowka' 'nowy  tomysl' 'bielsko - biala' 'libertow' 'dobron'\n",
      " 'banska nizna' 'tenczynek' 'stare stracze' 'modlniczka' 'tomaszkowo'\n",
      " 'dziekanow nowy' 'poronin' 'wegrzce' 'uciechow' 'kokoszkowy' 'siedlecin'\n",
      " 'weglowice' 'proszowki' 'zascianki' 'srock' 'chelm slaski' 'dys'\n",
      " 'busko-zdroj' 'plock-biala' 'stary bartkow' 'sekocin nowy' 'miedzychow'\n",
      " 'zbylitowska gora' 'nowiny' 'gilowice' 'stare proboszczewice' 'wolkowo']\n",
      "\n",
      "\tDropping 33 rows (7.76% of data)\n"
     ]
    }
   ],
   "source": [
    "from alco_analysis.agg import (\n",
    "    merge_conc_cities, \n",
    "    count_conc_city, \n",
    "    count_conc_woj,\n",
    "    merge_conc_population,\n",
    "    merge_pop_events)\n",
    "\n",
    "merged = merge_conc_cities(df_conc, df_cities, debug=True)\n",
    "\n",
    "# Można zliczyć ilość koncesji w całym dataframe albo tylko dla koncesji \n",
    "conc_count_city = count_conc_city(df_conc)\n",
    "conc_count_woj = count_conc_woj(df_conc)\n",
    "\n",
    "#Można zrobić merge i sprawdzić ile populacji i koncesji jest w danym rejonie \n",
    "df_conc_pop = merge_conc_population(conc_count_woj, df_pop)\n",
    "\n",
    "#MAlbo zrobić merge i sprawdzić ile populacji i pożarów jest w danym rejonie \n",
    "df_pop_eve = merge_pop_events(df_conc, df_events, df_pop)\n",
    "\n",
    "\n",
    "#Jeśli chcemy sprawdzić położenie to trzeba zmergować z miastami :)\n",
    "df_all = count_conc_city(merged)"
   ]
  },
  {
   "cell_type": "markdown",
   "id": "f78ea409",
   "metadata": {},
   "source": [
    "# Obliczanie korelacji między pożarami a merged (koncesje & lokalizacja)"
   ]
  },
  {
   "cell_type": "code",
   "execution_count": 4,
   "id": "0a01411d",
   "metadata": {},
   "outputs": [
    {
     "data": {
      "application/vnd.microsoft.datawrangler.viewer.v0+json": {
       "columns": [
        {
         "name": "index",
         "rawType": "int64",
         "type": "integer"
        },
        {
         "name": "zdarzenie",
         "rawType": "object",
         "type": "string"
        },
        {
         "name": "Pearson",
         "rawType": "float64",
         "type": "float"
        }
       ],
       "ref": "3067e23e-a3e6-4e4f-9c4c-3c7217d6e6df",
       "rows": [
        [
         "0",
         "Pożary (razem) vs koncesja",
         "0.7750186346066342"
        ],
        [
         "1",
         "P - małe vs koncesja",
         "0.7772258576902492"
        ],
        [
         "2",
         "P - średnie vs koncesja",
         "0.5064269304086415"
        ],
        [
         "3",
         "P - duże vs koncesja",
         "0.4611341006741642"
        ],
        [
         "4",
         "P - bardzo duże vs koncesja",
         "0.2985118822045884"
        ],
        [
         "5",
         "Miejscowe zagrożenia (razem) vs koncesja",
         "0.8062881449481598"
        ],
        [
         "6",
         "MZ - małe vs koncesja",
         "0.7300218637897755"
        ],
        [
         "7",
         "MZ - średnie vs koncesja",
         "0.7309788502378732"
        ],
        [
         "8",
         "MZ - lokalne vs koncesja",
         "0.8104728424576387"
        ],
        [
         "9",
         "MZ - katastrofalne vs koncesja",
         "0.2148018520857577"
        ]
       ],
       "shape": {
        "columns": 2,
        "rows": 10
       }
      },
      "text/html": [
       "<div>\n",
       "<style scoped>\n",
       "    .dataframe tbody tr th:only-of-type {\n",
       "        vertical-align: middle;\n",
       "    }\n",
       "\n",
       "    .dataframe tbody tr th {\n",
       "        vertical-align: top;\n",
       "    }\n",
       "\n",
       "    .dataframe thead th {\n",
       "        text-align: right;\n",
       "    }\n",
       "</style>\n",
       "<table border=\"1\" class=\"dataframe\">\n",
       "  <thead>\n",
       "    <tr style=\"text-align: right;\">\n",
       "      <th></th>\n",
       "      <th>zdarzenie</th>\n",
       "      <th>Pearson</th>\n",
       "    </tr>\n",
       "  </thead>\n",
       "  <tbody>\n",
       "    <tr>\n",
       "      <th>0</th>\n",
       "      <td>Pożary (razem) vs koncesja</td>\n",
       "      <td>0.775019</td>\n",
       "    </tr>\n",
       "    <tr>\n",
       "      <th>1</th>\n",
       "      <td>P - małe vs koncesja</td>\n",
       "      <td>0.777226</td>\n",
       "    </tr>\n",
       "    <tr>\n",
       "      <th>2</th>\n",
       "      <td>P - średnie vs koncesja</td>\n",
       "      <td>0.506427</td>\n",
       "    </tr>\n",
       "    <tr>\n",
       "      <th>3</th>\n",
       "      <td>P - duże vs koncesja</td>\n",
       "      <td>0.461134</td>\n",
       "    </tr>\n",
       "    <tr>\n",
       "      <th>4</th>\n",
       "      <td>P - bardzo duże vs koncesja</td>\n",
       "      <td>0.298512</td>\n",
       "    </tr>\n",
       "    <tr>\n",
       "      <th>5</th>\n",
       "      <td>Miejscowe zagrożenia (razem) vs koncesja</td>\n",
       "      <td>0.806288</td>\n",
       "    </tr>\n",
       "    <tr>\n",
       "      <th>6</th>\n",
       "      <td>MZ - małe vs koncesja</td>\n",
       "      <td>0.730022</td>\n",
       "    </tr>\n",
       "    <tr>\n",
       "      <th>7</th>\n",
       "      <td>MZ - średnie vs koncesja</td>\n",
       "      <td>0.730979</td>\n",
       "    </tr>\n",
       "    <tr>\n",
       "      <th>8</th>\n",
       "      <td>MZ - lokalne vs koncesja</td>\n",
       "      <td>0.810473</td>\n",
       "    </tr>\n",
       "    <tr>\n",
       "      <th>9</th>\n",
       "      <td>MZ - katastrofalne vs koncesja</td>\n",
       "      <td>0.214802</td>\n",
       "    </tr>\n",
       "  </tbody>\n",
       "</table>\n",
       "</div>"
      ],
      "text/plain": [
       "                                  zdarzenie   Pearson\n",
       "0                Pożary (razem) vs koncesja  0.775019\n",
       "1                      P - małe vs koncesja  0.777226\n",
       "2                   P - średnie vs koncesja  0.506427\n",
       "3                      P - duże vs koncesja  0.461134\n",
       "4               P - bardzo duże vs koncesja  0.298512\n",
       "5  Miejscowe zagrożenia (razem) vs koncesja  0.806288\n",
       "6                     MZ - małe vs koncesja  0.730022\n",
       "7                  MZ - średnie vs koncesja  0.730979\n",
       "8                  MZ - lokalne vs koncesja  0.810473\n",
       "9            MZ - katastrofalne vs koncesja  0.214802"
      ]
     },
     "execution_count": 4,
     "metadata": {},
     "output_type": "execute_result"
    }
   ],
   "source": [
    "from alco_analysis.stats import correlation_conc_events\n",
    "\n",
    "df_corr = correlation_conc_events(df_conc, df_cities, df_events)\n",
    "df_corr"
   ]
  },
  {
   "cell_type": "code",
   "execution_count": 5,
   "id": "6ddd41e3",
   "metadata": {},
   "outputs": [
    {
     "name": "stdout",
     "output_type": "stream",
     "text": [
      "Korelacja między populacją województwa ilością koncesji 0.8865768607314712\n",
      "Korelacja między populacją województwa a ilością pożarów 0.8865768607314712\n"
     ]
    }
   ],
   "source": [
    "from alco_analysis.stats import correlation_conc_pop, correlation_pop_events\n",
    "\n",
    "corr_conc_pop = correlation_conc_pop(df_conc, df_pop)\n",
    "print(\"Korelacja między populacją województwa ilością koncesji\",corr_conc_pop)\n",
    "\n",
    "df_corr.loc[-1] = [\"Populacja vs ilość koncesji\", corr_conc_pop]\n",
    "df_corr.index = df_corr.index + 1 \n",
    "df_corr = df_corr.sort_index() \n",
    "\n",
    "\n",
    "corr_pop_ev = correlation_pop_events(df_conc, df_events, df_pop) \n",
    "print(\"Korelacja między populacją województwa a ilością pożarów\",corr_conc_pop)\n",
    "\n",
    "df_corr.loc[-1] = [\"Populacja vs liość pożarów (RAZEM)\", corr_pop_ev]\n",
    "df_corr.index = df_corr.index + 1 \n",
    "df_corr = df_corr.sort_index() \n",
    "\n",
    "\n",
    "\n",
    "df_corr.to_csv(output_folder/\"corr_notebook.csv\")"
   ]
  },
  {
   "cell_type": "markdown",
   "id": "221ce5bd",
   "metadata": {},
   "source": [
    "# Heatmapa dla sprzedaży alkoholi"
   ]
  },
  {
   "cell_type": "markdown",
   "id": "fbebe001",
   "metadata": {},
   "source": [
    "Efekt jest dosyć dramatyczny ale proszę wziąć pod uwagę że to Heatmapa WSZYSTKICH pożarów nawet tych największych które niekoniecznie były spowodowane przez picie alkoholu."
   ]
  },
  {
   "cell_type": "code",
   "execution_count": 6,
   "id": "d0cd48ef",
   "metadata": {},
   "outputs": [
    {
     "name": "stdout",
     "output_type": "stream",
     "text": [
      "Mapa została zapisana jako 'mapa_koncesji.html'\n"
     ]
    },
    {
     "data": {
      "text/html": [
       "<div style=\"width:100%;\"><div style=\"position:relative;width:100%;height:0;padding-bottom:60%;\"><span style=\"color:#565656\">Make this Notebook Trusted to load map: File -> Trust Notebook</span><iframe srcdoc=\"&lt;!DOCTYPE html&gt;\n",
       "&lt;html&gt;\n",
       "&lt;head&gt;\n",
       "    \n",
       "    &lt;meta http-equiv=&quot;content-type&quot; content=&quot;text/html; charset=UTF-8&quot; /&gt;\n",
       "    &lt;script src=&quot;https://cdn.jsdelivr.net/npm/leaflet@1.9.3/dist/leaflet.js&quot;&gt;&lt;/script&gt;\n",
       "    &lt;script src=&quot;https://code.jquery.com/jquery-3.7.1.min.js&quot;&gt;&lt;/script&gt;\n",
       "    &lt;script src=&quot;https://cdn.jsdelivr.net/npm/bootstrap@5.2.2/dist/js/bootstrap.bundle.min.js&quot;&gt;&lt;/script&gt;\n",
       "    &lt;script src=&quot;https://cdnjs.cloudflare.com/ajax/libs/Leaflet.awesome-markers/2.0.2/leaflet.awesome-markers.js&quot;&gt;&lt;/script&gt;\n",
       "    &lt;link rel=&quot;stylesheet&quot; href=&quot;https://cdn.jsdelivr.net/npm/leaflet@1.9.3/dist/leaflet.css&quot;/&gt;\n",
       "    &lt;link rel=&quot;stylesheet&quot; href=&quot;https://cdn.jsdelivr.net/npm/bootstrap@5.2.2/dist/css/bootstrap.min.css&quot;/&gt;\n",
       "    &lt;link rel=&quot;stylesheet&quot; href=&quot;https://netdna.bootstrapcdn.com/bootstrap/3.0.0/css/bootstrap-glyphicons.css&quot;/&gt;\n",
       "    &lt;link rel=&quot;stylesheet&quot; href=&quot;https://cdn.jsdelivr.net/npm/@fortawesome/fontawesome-free@6.2.0/css/all.min.css&quot;/&gt;\n",
       "    &lt;link rel=&quot;stylesheet&quot; href=&quot;https://cdnjs.cloudflare.com/ajax/libs/Leaflet.awesome-markers/2.0.2/leaflet.awesome-markers.css&quot;/&gt;\n",
       "    &lt;link rel=&quot;stylesheet&quot; href=&quot;https://cdn.jsdelivr.net/gh/python-visualization/folium/folium/templates/leaflet.awesome.rotate.min.css&quot;/&gt;\n",
       "    \n",
       "            &lt;meta name=&quot;viewport&quot; content=&quot;width=device-width,\n",
       "                initial-scale=1.0, maximum-scale=1.0, user-scalable=no&quot; /&gt;\n",
       "            &lt;style&gt;\n",
       "                #map_7dffdbe843d86ed2c1d4bb2d169130a4 {\n",
       "                    position: relative;\n",
       "                    width: 100.0%;\n",
       "                    height: 100.0%;\n",
       "                    left: 0.0%;\n",
       "                    top: 0.0%;\n",
       "                }\n",
       "                .leaflet-container { font-size: 1rem; }\n",
       "            &lt;/style&gt;\n",
       "\n",
       "            &lt;style&gt;html, body {\n",
       "                width: 100%;\n",
       "                height: 100%;\n",
       "                margin: 0;\n",
       "                padding: 0;\n",
       "            }\n",
       "            &lt;/style&gt;\n",
       "\n",
       "            &lt;style&gt;#map {\n",
       "                position:absolute;\n",
       "                top:0;\n",
       "                bottom:0;\n",
       "                right:0;\n",
       "                left:0;\n",
       "                }\n",
       "            &lt;/style&gt;\n",
       "\n",
       "            &lt;script&gt;\n",
       "                L_NO_TOUCH = false;\n",
       "                L_DISABLE_3D = false;\n",
       "            &lt;/script&gt;\n",
       "\n",
       "        \n",
       "    &lt;script src=&quot;https://cdn.jsdelivr.net/gh/python-visualization/folium@main/folium/templates/leaflet_heat.min.js&quot;&gt;&lt;/script&gt;\n",
       "&lt;/head&gt;\n",
       "&lt;body&gt;\n",
       "    \n",
       "    \n",
       "            &lt;div class=&quot;folium-map&quot; id=&quot;map_7dffdbe843d86ed2c1d4bb2d169130a4&quot; &gt;&lt;/div&gt;\n",
       "        \n",
       "&lt;/body&gt;\n",
       "&lt;script&gt;\n",
       "    \n",
       "    \n",
       "            var map_7dffdbe843d86ed2c1d4bb2d169130a4 = L.map(\n",
       "                &quot;map_7dffdbe843d86ed2c1d4bb2d169130a4&quot;,\n",
       "                {\n",
       "                    center: [52.1, 19.4],\n",
       "                    crs: L.CRS.EPSG3857,\n",
       "                    ...{\n",
       "  &quot;zoom&quot;: 6,\n",
       "  &quot;zoomControl&quot;: true,\n",
       "  &quot;preferCanvas&quot;: false,\n",
       "}\n",
       "\n",
       "                }\n",
       "            );\n",
       "\n",
       "            \n",
       "\n",
       "        \n",
       "    \n",
       "            var tile_layer_03696f866ce78597e47a6377db6d6daf = L.tileLayer(\n",
       "                &quot;https://{s}.basemaps.cartocdn.com/light_all/{z}/{x}/{y}{r}.png&quot;,\n",
       "                {\n",
       "  &quot;minZoom&quot;: 0,\n",
       "  &quot;maxZoom&quot;: 20,\n",
       "  &quot;maxNativeZoom&quot;: 20,\n",
       "  &quot;noWrap&quot;: false,\n",
       "  &quot;attribution&quot;: &quot;\\u0026copy; \\u003ca href=\\&quot;https://www.openstreetmap.org/copyright\\&quot;\\u003eOpenStreetMap\\u003c/a\\u003e contributors \\u0026copy; \\u003ca href=\\&quot;https://carto.com/attributions\\&quot;\\u003eCARTO\\u003c/a\\u003e&quot;,\n",
       "  &quot;subdomains&quot;: &quot;abcd&quot;,\n",
       "  &quot;detectRetina&quot;: false,\n",
       "  &quot;tms&quot;: false,\n",
       "  &quot;opacity&quot;: 1,\n",
       "}\n",
       "\n",
       "            );\n",
       "        \n",
       "    \n",
       "            tile_layer_03696f866ce78597e47a6377db6d6daf.addTo(map_7dffdbe843d86ed2c1d4bb2d169130a4);\n",
       "        \n",
       "    \n",
       "            var heat_map_f03a49f7408f85ade8e6f0e73fc21fe5 = L.heatLayer(\n",
       "                [[52.8833, 18.7, 1.0], [54.0, 15.9833, 1.0], [53.1333, 23.1667, 6.0], [52.7667, 23.2, 1.0], [52.15, 16.8833, 2.0], [54.1667, 17.5, 2.0], [52.8667, 20.6333, 1.0], [50.8, 19.1167, 2.0], [50.7167, 16.6333, 1.0], [54.1667, 19.4, 1.0], [51.9, 21.6333, 1.0], [54.3667, 18.6333, 5.0], [54.5333, 18.5333, 7.0], [50.2833, 18.6667, 1.0], [52.5333, 17.6, 3.0], [52.4167, 19.4667, 1.0], [52.1, 20.6167, 1.0], [50.8, 23.8833, 1.0], [51.7667, 18.1, 5.0], [54.3333, 18.2, 1.0], [50.25, 19.0, 5.0], [51.2833, 17.9833, 1.0], [50.2333, 21.7833, 1.0], [54.1667, 15.5667, 1.0], [52.2167, 18.2667, 1.0], [52.0833, 16.65, 1.0], [54.1833, 16.1833, 1.0], [50.05, 19.95, 15.0], [50.4667, 17.9667, 1.0], [50.9167, 22.2333, 1.0], [49.7, 21.7667, 3.0], [51.6833, 17.4333, 1.0], [53.7333, 18.9333, 2.0], [51.85, 16.5667, 2.0], [51.7833, 19.4667, 11.0], [52.2167, 22.7167, 1.0], [51.1167, 15.3, 1.0], [51.4, 16.2, 1.0], [51.2333, 22.5667, 3.0], [50.35, 20.0333, 1.0], [50.1667, 18.9, 2.0], [52.1833, 21.55, 1.0], [53.1167, 20.3833, 1.0], [52.65, 17.95, 1.0], [49.8333, 19.95, 1.0], [52.4333, 20.7167, 1.0], [49.6167, 20.7, 1.0], [52.6333, 16.8167, 1.0], [50.95, 17.3, 1.0], [53.7833, 20.5, 2.0], [50.6667, 17.9333, 2.0], [51.15, 21.9833, 1.0], [50.85, 21.3833, 1.0], [52.1167, 21.25, 1.0], [51.6333, 22.9167, 1.0], [52.0667, 21.0333, 1.0], [53.1667, 16.75, 2.0], [52.55, 19.7, 3.0], [53.55, 14.55, 1.0], [52.4167, 16.9167, 12.0], [54.7333, 18.4, 1.0], [52.7167, 21.0833, 2.0], [50.0833, 18.2333, 1.0], [51.4, 21.1667, 2.0], [50.2667, 18.8667, 1.0], [50.05, 22.0167, 3.0], [53.45, 17.5333, 1.0], [52.8667, 19.6667, 2.0], [52.4, 22.2667, 1.0], [54.4333, 18.55, 1.0], [51.0333, 21.0667, 1.0], [53.9667, 18.5333, 2.0], [49.7333, 19.4833, 1.0], [54.1, 22.9333, 1.0], [50.8333, 16.4833, 2.0], [51.2, 22.6833, 1.0], [53.9167, 14.25, 2.0], [53.4333, 14.5667, 5.0], [53.5667, 20.9833, 1.0], [50.45, 18.8667, 1.0], [50.45, 23.4167, 1.0], [51.5333, 20.0333, 2.0], [53.0333, 18.6167, 5.0], [50.1333, 18.9833, 3.0], [50.7833, 16.2833, 1.0], [54.2167, 21.75, 2.0], [49.9833, 20.05, 1.0], [52.65, 19.05, 1.0], [50.0167, 18.4667, 1.0], [52.35, 21.2333, 1.0], [51.1167, 17.0333, 7.0], [49.3, 19.95, 2.0], [51.6, 18.9333, 2.0], [51.9333, 15.5, 3.0], [52.05, 20.4333, 1.0], [49.7, 19.2, 2.0]],\n",
       "                {\n",
       "  &quot;minOpacity&quot;: 0.4,\n",
       "  &quot;maxZoom&quot;: 13,\n",
       "  &quot;radius&quot;: 20,\n",
       "  &quot;blur&quot;: 15,\n",
       "  &quot;gradient&quot;: {\n",
       "  0.4: &quot;blue&quot;,\n",
       "  0.6: &quot;lime&quot;,\n",
       "  0.8: &quot;orange&quot;,\n",
       "  1.0: &quot;red&quot;,\n",
       "},\n",
       "}\n",
       "            );\n",
       "        \n",
       "    \n",
       "            heat_map_f03a49f7408f85ade8e6f0e73fc21fe5.addTo(map_7dffdbe843d86ed2c1d4bb2d169130a4);\n",
       "        \n",
       "    \n",
       "            var heat_map_8cabcea417eaa39dd9c8ba8c16b0d7d3 = L.heatLayer(\n",
       "                [[52.8833, 18.7, 138.0], [54.0, 15.9833, 128.0], [53.1333, 23.1667, 891.0], [52.7667, 23.2, 181.0], [52.15, 16.8833, 191.0], [54.1667, 17.5, 183.0], [52.8667, 20.6333, 248.0], [50.8, 19.1167, 920.0], [50.7167, 16.6333, 302.0], [54.1667, 19.4, 501.0], [51.9, 21.6333, 439.0], [54.3667, 18.6333, 1072.0], [54.5333, 18.5333, 369.0], [50.2833, 18.6667, 678.0], [52.5333, 17.6, 267.0], [52.4167, 19.4667, 156.0], [52.1, 20.6167, 368.0], [50.8, 23.8833, 159.0], [51.7667, 18.1, 426.0], [54.3333, 18.2, 296.0], [50.25, 19.0, 735.0], [51.2833, 17.9833, 178.0], [50.2333, 21.7833, 151.0], [54.1667, 15.5667, 256.0], [52.2167, 18.2667, 475.0], [52.0833, 16.65, 153.0], [54.1833, 16.1833, 452.0], [50.05, 19.95, 2191.0], [50.4667, 17.9667, 169.0], [50.9167, 22.2333, 209.0], [49.7, 21.7667, 447.0], [51.6833, 17.4333, 115.0], [53.7333, 18.9333, 260.0], [51.85, 16.5667, 188.0], [51.7833, 19.4667, 1585.0], [52.2167, 22.7167, 122.0], [51.1167, 15.3, 277.0], [51.4, 16.2, 299.0], [51.2333, 22.5667, 1193.0], [50.35, 20.0333, 137.0], [50.1667, 18.9, 160.0], [52.1833, 21.55, 461.0], [53.1167, 20.3833, 226.0], [52.65, 17.95, 100.0], [49.8333, 19.95, 210.0], [52.4333, 20.7167, 371.0], [49.6167, 20.7, 664.0], [52.6333, 16.8167, 191.0], [50.95, 17.3, 277.0], [53.7833, 20.5, 756.0], [50.6667, 17.9333, 524.0], [51.15, 21.9833, 166.0], [50.85, 21.3833, 283.0], [52.1167, 21.25, 581.0], [51.6333, 22.9167, 167.0], [52.0667, 21.0333, 984.0], [53.1667, 16.75, 349.0], [52.55, 19.7, 586.0], [53.55, 14.55, 196.0], [52.4167, 16.9167, 1907.0], [54.7333, 18.4, 206.0], [52.7167, 21.0833, 174.0], [50.0833, 18.2333, 180.0], [51.4, 21.1667, 1221.0], [50.2667, 18.8667, 338.0], [50.05, 22.0167, 664.0], [53.45, 17.5333, 79.0], [52.8667, 19.6667, 157.0], [52.4, 22.2667, 162.0], [54.4333, 18.55, 77.0], [51.0333, 21.0667, 224.0], [53.9667, 18.5333, 312.0], [49.7333, 19.4833, 188.0], [54.1, 22.9333, 219.0], [50.8333, 16.4833, 466.0], [51.2, 22.6833, 153.0], [53.9167, 14.25, 120.0], [53.4333, 14.5667, 890.0], [53.5667, 20.9833, 235.0], [50.45, 18.8667, 282.0], [50.45, 23.4167, 189.0], [51.5333, 20.0333, 359.0], [53.0333, 18.6167, 828.0], [50.1333, 18.9833, 302.0], [50.7833, 16.2833, 500.0], [54.2167, 21.75, 109.0], [49.9833, 20.05, 238.0], [52.65, 19.05, 624.0], [50.0167, 18.4667, 263.0], [52.35, 21.2333, 1002.0], [51.1167, 17.0333, 2301.0], [49.3, 19.95, 164.0], [51.6, 18.9333, 121.0], [51.9333, 15.5, 598.0], [52.05, 20.4333, 382.0], [49.7, 19.2, 353.0]],\n",
       "                {\n",
       "  &quot;minOpacity&quot;: 0.4,\n",
       "  &quot;maxZoom&quot;: 13,\n",
       "  &quot;radius&quot;: 20,\n",
       "  &quot;blur&quot;: 15,\n",
       "  &quot;gradient&quot;: {\n",
       "  0.4: &quot;purple&quot;,\n",
       "  0.6: &quot;violet&quot;,\n",
       "  0.8: &quot;magenta&quot;,\n",
       "  1.0: &quot;red&quot;,\n",
       "},\n",
       "}\n",
       "            );\n",
       "        \n",
       "    \n",
       "            heat_map_8cabcea417eaa39dd9c8ba8c16b0d7d3.addTo(map_7dffdbe843d86ed2c1d4bb2d169130a4);\n",
       "        \n",
       "    \n",
       "            var layer_control_82448d2e379177f71940fd5013f8f73a_layers = {\n",
       "                base_layers : {\n",
       "                    &quot;cartodbpositron&quot; : tile_layer_03696f866ce78597e47a6377db6d6daf,\n",
       "                },\n",
       "                overlays :  {\n",
       "                    &quot;Heatmap of concessions&quot; : heat_map_f03a49f7408f85ade8e6f0e73fc21fe5,\n",
       "                    &quot;Heatmap of fire events&quot; : heat_map_8cabcea417eaa39dd9c8ba8c16b0d7d3,\n",
       "                },\n",
       "            };\n",
       "            let layer_control_82448d2e379177f71940fd5013f8f73a = L.control.layers(\n",
       "                layer_control_82448d2e379177f71940fd5013f8f73a_layers.base_layers,\n",
       "                layer_control_82448d2e379177f71940fd5013f8f73a_layers.overlays,\n",
       "                {\n",
       "  &quot;position&quot;: &quot;topright&quot;,\n",
       "  &quot;collapsed&quot;: false,\n",
       "  &quot;autoZIndex&quot;: true,\n",
       "}\n",
       "            ).addTo(map_7dffdbe843d86ed2c1d4bb2d169130a4);\n",
       "\n",
       "        \n",
       "    \n",
       "            tile_layer_03696f866ce78597e47a6377db6d6daf.addTo(map_7dffdbe843d86ed2c1d4bb2d169130a4);\n",
       "        \n",
       "    \n",
       "            heat_map_f03a49f7408f85ade8e6f0e73fc21fe5.addTo(map_7dffdbe843d86ed2c1d4bb2d169130a4);\n",
       "        \n",
       "    \n",
       "            heat_map_8cabcea417eaa39dd9c8ba8c16b0d7d3.addTo(map_7dffdbe843d86ed2c1d4bb2d169130a4);\n",
       "        \n",
       "&lt;/script&gt;\n",
       "&lt;/html&gt;\" style=\"position:absolute;width:100%;height:100%;left:0;top:0;border:none !important;\" allowfullscreen webkitallowfullscreen mozallowfullscreen></iframe></div></div>"
      ],
      "text/plain": [
       "<folium.folium.Map at 0x79e399e52750>"
      ]
     },
     "execution_count": 6,
     "metadata": {},
     "output_type": "execute_result"
    }
   ],
   "source": [
    "from alco_analysis.heat_map import create_heatmap\n",
    "heatmap = create_heatmap(df_conc, df_events, df_cities, output_folder)\n",
    "heatmap"
   ]
  }
 ],
 "metadata": {
  "kernelspec": {
   "display_name": ".venv",
   "language": "python",
   "name": "python3"
  },
  "language_info": {
   "codemirror_mode": {
    "name": "ipython",
    "version": 3
   },
   "file_extension": ".py",
   "mimetype": "text/x-python",
   "name": "python",
   "nbconvert_exporter": "python",
   "pygments_lexer": "ipython3",
   "version": "3.11.12"
  }
 },
 "nbformat": 4,
 "nbformat_minor": 5
}
