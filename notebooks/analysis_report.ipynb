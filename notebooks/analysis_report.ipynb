{
 "cells": [
  {
   "cell_type": "code",
   "execution_count": 1,
   "id": "a3202dde",
   "metadata": {},
   "outputs": [
    {
     "name": "stdout",
     "output_type": "stream",
     "text": [
      "\n",
      "###CONCESSION DATAFRAME###\n",
      "\n",
      "Deleted 0 rows\n",
      "\n",
      "###EVENTS DATAFRAME###\n",
      "\n",
      "Deleted 0 rows\n",
      "\n",
      "###CITIES DATAFRAME###\n",
      "\n",
      "Deleted 0 rows\n"
     ]
    }
   ],
   "source": [
    "from alco_analysis.loading_data import load_data\n",
    "from alco_analysis.correlation import *\n",
    "from alco_analysis.stats import count_concession, summary, merge_df_on_city, different_correlations\n",
    "\n",
    "df_conc, df_events, df_cities = load_data(\"data/concession.csv\", \n",
    "                                          \"data/events.csv\",\n",
    "                                          \"data/cities.csv\")"
   ]
  },
  {
   "cell_type": "code",
   "execution_count": 2,
   "id": "d49059b6",
   "metadata": {},
   "outputs": [
    {
     "name": "stdout",
     "output_type": "stream",
     "text": [
      "MERGED CONCESSION DATA FRAME AND CITIES -> LOCALIZATION OF EVERY CONCESSION\n",
      "Dopasowane   : 394\n",
      "Niedopasowane: 33\n",
      "Nie­użyte     : 0\n",
      "Koncesje bez lokalizacji przydzielonego miasta\n",
      "['bienkowka' 'nowy  tomysl' 'bielsko - biala' 'libertow' 'dobron'\n",
      " 'banska nizna' 'tenczynek' 'stare stracze' 'modlniczka' 'tomaszkowo'\n",
      " 'dziekanow nowy' 'poronin' 'wegrzce' 'uciechow' 'kokoszkowy' 'siedlecin'\n",
      " 'weglowice' 'proszowki' 'zascianki' 'srock' 'chelm slaski' 'dys'\n",
      " 'busko-zdroj' 'plock-biala' 'stary bartkow' 'sekocin nowy' 'miedzychow'\n",
      " 'zbylitowska gora' 'nowiny' 'gilowice' 'stare proboszczewice' 'wolkowo']\n",
      "\n",
      "### Dropping 7.73% of data ###\n"
     ]
    }
   ],
   "source": [
    "merged = (df_conc.merge(df_cities, on=['city'], how='left', indicator=True)) \n",
    "print(\"MERGED CONCESSION DATA FRAME AND CITIES -> LOCALIZATION OF EVERY CONCESSION\")\n",
    "# print(merged.head())\n",
    "\n",
    "vc = merged['_merge'].value_counts()\n",
    "\n",
    "print(\"Dopasowane   :\", vc.get('both', 0))\n",
    "print(\"Niedopasowane:\", vc.get('left_only', 0))\n",
    "print(\"Nie­użyte     :\", vc.get('right_only', 0))\n",
    "\n",
    "missing = merged.loc[merged['_merge'] == 'left_only', 'city']\n",
    "\n",
    "print(\"Koncesje bez lokalizacji przydzielonego miasta\")\n",
    "print(missing.unique())\n",
    "percent = vc.get('left_only', 0)/(vc.get('both', 0) + vc.get('left_only', 0))*100\n",
    "\n",
    "print(f\"\\n### Dropping {percent:.2f}% of data ###\")\n",
    "merged.dropna(subset=[\"lon\", \"lat\"], inplace=True)"
   ]
  },
  {
   "cell_type": "markdown",
   "id": "f78ea409",
   "metadata": {},
   "source": [
    "# Obliczanie korelacji między pożarami a merged (koncesje & lokalizacja)"
   ]
  },
  {
   "cell_type": "code",
   "execution_count": null,
   "id": "0a01411d",
   "metadata": {},
   "outputs": [],
   "source": [
    "df_conc_count = count_concession(merged)\n",
    "\n",
    "df_corr = (df_conc_count.merge(df_events, on='city', how='inner'))\n",
    "\n",
    "\n",
    "print(df_conc_count)\n",
    "pearson = df_corr[['Liczba_koncesji', 'RAZEM Pożar (P)']].corr().iloc[0,1]\n",
    "print(\"Pearson =\", round(pearson, 3))"
   ]
  }
 ],
 "metadata": {
  "kernelspec": {
   "display_name": ".venv",
   "language": "python",
   "name": "python3"
  },
  "language_info": {
   "codemirror_mode": {
    "name": "ipython",
    "version": 3
   },
   "file_extension": ".py",
   "mimetype": "text/x-python",
   "name": "python",
   "nbconvert_exporter": "python",
   "pygments_lexer": "ipython3",
   "version": "3.11.12"
  }
 },
 "nbformat": 4,
 "nbformat_minor": 5
}
