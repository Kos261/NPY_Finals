{
 "cells": [
  {
   "cell_type": "markdown",
   "id": "19630e39",
   "metadata": {},
   "source": [
    "# Package functions presentation (Krótkie wyjaśnienie funkcji pakietu statystycznego)\n",
    "Autor: Konstanty Kłosiewicz student MIMUW\n",
    "\n",
    "### Ładowanie danych i krótkie podsumowanie"
   ]
  },
  {
   "cell_type": "code",
   "execution_count": 1,
   "id": "a3202dde",
   "metadata": {},
   "outputs": [
    {
     "name": "stdout",
     "output_type": "stream",
     "text": [
      "            city        date          woj\n",
      "count        416         416          416\n",
      "unique       213         186           16\n",
      "top     warszawa  2025-12-31  mazowieckie\n",
      "freq          78          30          129\n",
      "               lon          lat\n",
      "count  2318.000000  2318.000000\n",
      "mean     19.643629    51.767623\n",
      "std       2.609193     1.617959\n",
      "min      14.200000    20.633300\n",
      "25%      17.850000    50.700000\n",
      "50%      19.641650    51.733300\n",
      "75%      21.545825    52.833300\n",
      "max      50.133300    55.633300\n",
      "        Nr KP/M PSP  RAZEM Pożar (P)   Mały (P/M)  Średni (P/Ś)  Duży (P/D)  \\\n",
      "count  3.350000e+02       335.000000   335.000000    335.000000  335.000000   \n",
      "mean   8.736866e+05       309.370149   297.582090     10.629851    0.925373   \n",
      "std    4.708137e+05       346.091998   340.860752      7.528410    1.229788   \n",
      "min    1.010000e+05        61.000000    54.000000      0.000000    0.000000   \n",
      "25%    5.075000e+05       152.500000   144.000000      6.000000    0.000000   \n",
      "50%    9.010000e+05       217.000000   206.000000      9.000000    1.000000   \n",
      "75%    1.235500e+06       341.500000   330.000000     13.000000    1.000000   \n",
      "max    1.621000e+06      4252.000000  4223.000000     46.000000    7.000000   \n",
      "\n",
      "       Bardzo duży (P/BD)  RAZEM Miejscowe zagrożenie (MZ)  Małe (MZ/M)  \\\n",
      "count          335.000000                       335.000000   335.000000   \n",
      "mean             0.232836                      1178.211940   156.958209   \n",
      "std              0.488915                      1306.315764   284.863889   \n",
      "min              0.000000                       275.000000    10.000000   \n",
      "25%              0.000000                       612.500000    45.500000   \n",
      "50%              0.000000                       798.000000    81.000000   \n",
      "75%              0.000000                      1319.000000   160.000000   \n",
      "max              3.000000                     13139.000000  3710.000000   \n",
      "\n",
      "       Lokalne (MZ/L)  Średnie (MZ/Ś)  Duże (MZ/D)  \\\n",
      "count      335.000000      335.000000   335.000000   \n",
      "mean       993.582090       26.349254     1.283582   \n",
      "std       1027.119409       30.357951     2.476270   \n",
      "min        220.000000        0.000000     0.000000   \n",
      "25%        530.000000       11.000000     0.000000   \n",
      "50%        688.000000       19.000000     0.000000   \n",
      "75%       1123.000000       31.000000     1.000000   \n",
      "max      10147.000000      291.000000    17.000000   \n",
      "\n",
      "       Gigantyczne lub klęska żywiołowa (MZ/K)  RAZEM Alarm fałszywy (AF)  \\\n",
      "count                               335.000000                 335.000000   \n",
      "mean                                  0.038806                 159.397015   \n",
      "std                                   0.373106                 380.076711   \n",
      "min                                   0.000000                  11.000000   \n",
      "25%                                   0.000000                  44.500000   \n",
      "50%                                   0.000000                  81.000000   \n",
      "75%                                   0.000000                 145.500000   \n",
      "max                                   5.000000                5456.000000   \n",
      "\n",
      "       Złośliwy (A/Z)  W dobrej wierze (A/DW)  Z instalacji wykrywania (A/IW)  \\\n",
      "count      335.000000              335.000000                      335.000000   \n",
      "mean         4.519403               88.256716                       66.620896   \n",
      "std          8.619645              137.169831                      247.399462   \n",
      "min          0.000000                6.000000                        0.000000   \n",
      "25%          1.000000               27.000000                       10.000000   \n",
      "50%          2.000000               51.000000                       24.000000   \n",
      "75%          5.000000               97.500000                       47.500000   \n",
      "max         78.000000             1529.000000                     3850.000000   \n",
      "\n",
      "             OGÓŁEM  \n",
      "count    335.000000  \n",
      "mean    1646.979104  \n",
      "std     1960.491084  \n",
      "min      369.000000  \n",
      "25%      841.000000  \n",
      "50%     1122.000000  \n",
      "75%     1770.500000  \n",
      "max    22847.000000  \n",
      "              n_pop\n",
      "count  1.600000e+01\n",
      "mean   2.288811e+06\n",
      "std    1.290661e+06\n",
      "min    8.903920e+05\n",
      "25%    1.251822e+06\n",
      "50%    1.944916e+06\n",
      "75%    2.933844e+06\n",
      "max    5.480040e+06\n"
     ]
    }
   ],
   "source": [
    "from alco_analysis.io import load_data\n",
    "from alco_analysis.stats import summary\n",
    "from pathlib import Path\n",
    "\n",
    "df_conc, df_events, df_cities, df_pop = load_data(\n",
    "                                          \"../data/concession.csv\", \n",
    "                                          \"../data/events.csv\",\n",
    "                                          \"../data/cities.csv\", \n",
    "                                          \"../data/rezydenci_2023.xlsx\",\n",
    "                                          debug=False)\n",
    "output_folder = Path(\"..\", \"output\")\n",
    "output_folder.mkdir(parents=True, exist_ok=True)\n",
    "\n",
    "# file_conc   = Path(input(\"Ścieżka do concession.csv: \").strip())\n",
    "# file_events   = Path(input(\"Ścieżka do events.csv: \").strip())\n",
    "# file_cities   = Path(input(\"Ścieżka do cities.csv: \").strip())\n",
    "# file_pop  = Path(input(\"Ścieżka do rezydenci_20XX.xlsx: \").strip())\n",
    "# output_folder = Path(input(\"Folder na output: \").strip())\n",
    "\n",
    "# assert file_conc.exists(),  f\"Nie znaleziono {file_conc}\"\n",
    "# assert file_events.exists(),  f\"Nie znaleziono {file_events}\"\n",
    "# assert file_cities.exists(),  f\"Nie znaleziono {file_cities}\"\n",
    "# assert file_pop.exists(),  f\"Nie znaleziono {file_pop}\"\n",
    "\n",
    "# if file_conc and file_events and file_cities and file_pop:\n",
    "#     df_conc, df_events, df_cities, df_pop = load_data(file_conc,\n",
    "#                                                       file_events,\n",
    "#                                                       file_cities,\n",
    "#                                                       file_pop)\n",
    "\n",
    "summary(df_conc, df_cities, df_events, df_pop)"
   ]
  },
  {
   "cell_type": "markdown",
   "id": "b2ad374e",
   "metadata": {},
   "source": [
    "### Funkcje agregacyjne"
   ]
  },
  {
   "cell_type": "code",
   "execution_count": 2,
   "id": "d49059b6",
   "metadata": {},
   "outputs": [
    {
     "name": "stdout",
     "output_type": "stream",
     "text": [
      "Dopasowane   : 392\n",
      "Niedopasowane: 33\n",
      "Nie­użyte     : 0\n",
      "Koncesje bez lokalizacji przydzielonego miasta\n",
      "['bienkowka' 'nowy  tomysl' 'bielsko - biala' 'libertow' 'dobron'\n",
      " 'banska nizna' 'tenczynek' 'stare stracze' 'modlniczka' 'tomaszkowo'\n",
      " 'dziekanow nowy' 'poronin' 'wegrzce' 'uciechow' 'kokoszkowy' 'siedlecin'\n",
      " 'weglowice' 'proszowki' 'zascianki' 'srock' 'chelm slaski' 'dys'\n",
      " 'busko-zdroj' 'plock-biala' 'stary bartkow' 'sekocin nowy' 'miedzychow'\n",
      " 'zbylitowska gora' 'nowiny' 'gilowice' 'stare proboszczewice' 'wolkowo']\n",
      "\n",
      "\tDropping 33 rows (7.76% of data)\n"
     ]
    }
   ],
   "source": [
    "from alco_analysis.agg import (\n",
    "    merge_conc_cities, \n",
    "    count_conc_city, \n",
    "    count_conc_woj,\n",
    "    merge_conc_population,\n",
    "    merge_pop_events)\n",
    "\n",
    "merged = merge_conc_cities(df_conc, df_cities, debug=True)\n",
    "\n",
    "# Można zliczyć ilość koncesji w całym dataframe albo tylko dla koncesji \n",
    "conc_count_city = count_conc_city(df_conc)\n",
    "conc_count_woj = count_conc_woj(df_conc)\n",
    "\n",
    "#Można zrobić merge i sprawdzić ile populacji i koncesji jest w danym rejonie \n",
    "df_conc_pop = merge_conc_population(conc_count_woj, df_pop)\n",
    "\n",
    "#MAlbo zrobić merge i sprawdzić ile populacji i pożarów jest w danym rejonie \n",
    "df_pop_eve = merge_pop_events(df_conc, df_events, df_pop)\n",
    "\n",
    "\n",
    "#Jeśli chcemy sprawdzić położenie to trzeba zmergować z miastami :)\n",
    "df_all = count_conc_city(merged)"
   ]
  },
  {
   "cell_type": "markdown",
   "id": "f78ea409",
   "metadata": {},
   "source": [
    "# Obliczanie korelacji między pożarami a merged (koncesje & lokalizacja)"
   ]
  },
  {
   "cell_type": "code",
   "execution_count": 3,
   "id": "0a01411d",
   "metadata": {},
   "outputs": [
    {
     "data": {
      "application/vnd.microsoft.datawrangler.viewer.v0+json": {
       "columns": [
        {
         "name": "index",
         "rawType": "int64",
         "type": "integer"
        },
        {
         "name": "zdarzenie",
         "rawType": "object",
         "type": "string"
        },
        {
         "name": "Pearson",
         "rawType": "float64",
         "type": "float"
        }
       ],
       "ref": "8cc6be42-dcce-4908-a30d-f41af99cf032",
       "rows": [
        [
         "0",
         "Pożary (razem) vs koncesja",
         "0.7750186346066342"
        ],
        [
         "1",
         "P - małe vs koncesja",
         "0.7772258576902492"
        ],
        [
         "2",
         "P - średnie vs koncesja",
         "0.5064269304086415"
        ],
        [
         "3",
         "P - duże vs koncesja",
         "0.4611341006741642"
        ],
        [
         "4",
         "P - bardzo duże vs koncesja",
         "0.2985118822045884"
        ],
        [
         "5",
         "Miejscowe zagrożenia (razem) vs koncesja",
         "0.8062881449481598"
        ],
        [
         "6",
         "MZ - małe vs koncesja",
         "0.7300218637897755"
        ],
        [
         "7",
         "MZ - średnie vs koncesja",
         "0.7309788502378732"
        ],
        [
         "8",
         "MZ - lokalne vs koncesja",
         "0.8104728424576387"
        ],
        [
         "9",
         "MZ - katastrofalne vs koncesja",
         "0.2148018520857577"
        ]
       ],
       "shape": {
        "columns": 2,
        "rows": 10
       }
      },
      "text/html": [
       "<div>\n",
       "<style scoped>\n",
       "    .dataframe tbody tr th:only-of-type {\n",
       "        vertical-align: middle;\n",
       "    }\n",
       "\n",
       "    .dataframe tbody tr th {\n",
       "        vertical-align: top;\n",
       "    }\n",
       "\n",
       "    .dataframe thead th {\n",
       "        text-align: right;\n",
       "    }\n",
       "</style>\n",
       "<table border=\"1\" class=\"dataframe\">\n",
       "  <thead>\n",
       "    <tr style=\"text-align: right;\">\n",
       "      <th></th>\n",
       "      <th>zdarzenie</th>\n",
       "      <th>Pearson</th>\n",
       "    </tr>\n",
       "  </thead>\n",
       "  <tbody>\n",
       "    <tr>\n",
       "      <th>0</th>\n",
       "      <td>Pożary (razem) vs koncesja</td>\n",
       "      <td>0.775019</td>\n",
       "    </tr>\n",
       "    <tr>\n",
       "      <th>1</th>\n",
       "      <td>P - małe vs koncesja</td>\n",
       "      <td>0.777226</td>\n",
       "    </tr>\n",
       "    <tr>\n",
       "      <th>2</th>\n",
       "      <td>P - średnie vs koncesja</td>\n",
       "      <td>0.506427</td>\n",
       "    </tr>\n",
       "    <tr>\n",
       "      <th>3</th>\n",
       "      <td>P - duże vs koncesja</td>\n",
       "      <td>0.461134</td>\n",
       "    </tr>\n",
       "    <tr>\n",
       "      <th>4</th>\n",
       "      <td>P - bardzo duże vs koncesja</td>\n",
       "      <td>0.298512</td>\n",
       "    </tr>\n",
       "    <tr>\n",
       "      <th>5</th>\n",
       "      <td>Miejscowe zagrożenia (razem) vs koncesja</td>\n",
       "      <td>0.806288</td>\n",
       "    </tr>\n",
       "    <tr>\n",
       "      <th>6</th>\n",
       "      <td>MZ - małe vs koncesja</td>\n",
       "      <td>0.730022</td>\n",
       "    </tr>\n",
       "    <tr>\n",
       "      <th>7</th>\n",
       "      <td>MZ - średnie vs koncesja</td>\n",
       "      <td>0.730979</td>\n",
       "    </tr>\n",
       "    <tr>\n",
       "      <th>8</th>\n",
       "      <td>MZ - lokalne vs koncesja</td>\n",
       "      <td>0.810473</td>\n",
       "    </tr>\n",
       "    <tr>\n",
       "      <th>9</th>\n",
       "      <td>MZ - katastrofalne vs koncesja</td>\n",
       "      <td>0.214802</td>\n",
       "    </tr>\n",
       "  </tbody>\n",
       "</table>\n",
       "</div>"
      ],
      "text/plain": [
       "                                  zdarzenie   Pearson\n",
       "0                Pożary (razem) vs koncesja  0.775019\n",
       "1                      P - małe vs koncesja  0.777226\n",
       "2                   P - średnie vs koncesja  0.506427\n",
       "3                      P - duże vs koncesja  0.461134\n",
       "4               P - bardzo duże vs koncesja  0.298512\n",
       "5  Miejscowe zagrożenia (razem) vs koncesja  0.806288\n",
       "6                     MZ - małe vs koncesja  0.730022\n",
       "7                  MZ - średnie vs koncesja  0.730979\n",
       "8                  MZ - lokalne vs koncesja  0.810473\n",
       "9            MZ - katastrofalne vs koncesja  0.214802"
      ]
     },
     "execution_count": 3,
     "metadata": {},
     "output_type": "execute_result"
    }
   ],
   "source": [
    "from alco_analysis.stats import correlation_conc_events\n",
    "\n",
    "df_corr = correlation_conc_events(df_conc, df_cities, df_events)\n",
    "df_corr"
   ]
  },
  {
   "cell_type": "code",
   "execution_count": 4,
   "id": "6ddd41e3",
   "metadata": {},
   "outputs": [
    {
     "name": "stdout",
     "output_type": "stream",
     "text": [
      "Korelacja między populacją województwa ilością koncesji 0.8865768607314712\n",
      "Korelacja między populacją województwa a ilością pożarów 0.8865768607314712\n"
     ]
    }
   ],
   "source": [
    "from alco_analysis.stats import correlation_conc_pop, correlation_pop_events\n",
    "\n",
    "corr_conc_pop = correlation_conc_pop(df_conc, df_pop)\n",
    "print(\"Korelacja między populacją województwa ilością koncesji\",corr_conc_pop)\n",
    "\n",
    "df_corr.loc[-1] = [\"Populacja vs ilość koncesji\", corr_conc_pop]\n",
    "df_corr.index = df_corr.index + 1  # shifting index\n",
    "df_corr = df_corr.sort_index() \n",
    "\n",
    "\n",
    "corr_pop_ev = correlation_pop_events(df_conc, df_events, df_pop) \n",
    "print(\"Korelacja między populacją województwa a ilością pożarów\",corr_conc_pop)\n",
    "\n",
    "df_corr.loc[-1] = [\"Populacja vs liość pożarów (RAZEM)\", corr_pop_ev]\n",
    "df_corr.index = df_corr.index + 1  # shifting index\n",
    "df_corr = df_corr.sort_index() \n",
    "\n",
    "\n",
    "\n",
    "df_corr.to_csv(output_folder/\"corr_notebook.csv\")"
   ]
  },
  {
   "cell_type": "markdown",
   "id": "221ce5bd",
   "metadata": {},
   "source": [
    "# Heatmapa dla sprzedaży alkoholi"
   ]
  },
  {
   "cell_type": "markdown",
   "id": "fbebe001",
   "metadata": {},
   "source": [
    "Efekt jest dosyć dramatyczny ale proszę wziąć pod uwagę że to Heatmapa WSZYSTKICH pożarów nawet tych największych które niekoniecznie były spowodowane przez picie alkoholu."
   ]
  },
  {
   "cell_type": "code",
   "execution_count": 6,
   "id": "d0cd48ef",
   "metadata": {},
   "outputs": [
    {
     "ename": "KeyError",
     "evalue": "['lon', 'lat']",
     "output_type": "error",
     "traceback": [
      "\u001b[31m---------------------------------------------------------------------------\u001b[39m",
      "\u001b[31mKeyError\u001b[39m                                  Traceback (most recent call last)",
      "\u001b[32m/tmp/ipykernel_73184/3521437765.py\u001b[39m in \u001b[36m?\u001b[39m\u001b[34m()\u001b[39m\n\u001b[32m      1\u001b[39m \u001b[38;5;28;01mfrom\u001b[39;00m alco_analysis.heat_map \u001b[38;5;28;01mimport\u001b[39;00m create_heatmap\n\u001b[32m      2\u001b[39m \n\u001b[32m----> \u001b[39m\u001b[32m3\u001b[39m heatmap = create_heatmap(df_conc, df_cities, df_events, output_folder)\n\u001b[32m      4\u001b[39m heatmap\n",
      "\u001b[32m~/Projects/UW/NPY_Finals/alco_analysis/heat_map.py\u001b[39m in \u001b[36m?\u001b[39m\u001b[34m(df_conc, df_events, df_cities, output_folder)\u001b[39m\n\u001b[32m      8\u001b[39m \u001b[38;5;28;01mdef\u001b[39;00m create_heatmap(df_conc, df_events, df_cities, output_folder):\n\u001b[32m----> \u001b[39m\u001b[32m9\u001b[39m     merged = merge_conc_cities(df_conc, df_cities)\n\u001b[32m     10\u001b[39m     df_count = count_conc_city(merged)\n\u001b[32m     11\u001b[39m     df_all = (df_count.merge(df_events, on=\u001b[33m'city'\u001b[39m, how=\u001b[33m'inner'\u001b[39m))\n\u001b[32m     12\u001b[39m     \u001b[38;5;66;03m# This is for location of each concession\u001b[39;00m\n",
      "\u001b[32m~/Projects/UW/NPY_Finals/alco_analysis/agg.py\u001b[39m in \u001b[36m?\u001b[39m\u001b[34m(df_conc, df_cities, debug)\u001b[39m\n\u001b[32m     39\u001b[39m         print(\u001b[33m\"Koncesje bez lokalizacji przydzielonego miasta\"\u001b[39m)\n\u001b[32m     40\u001b[39m         print(missing.unique())\n\u001b[32m     41\u001b[39m \n\u001b[32m     42\u001b[39m         print(\u001b[33mf\"\\n\\tDropping {vc.get('left_only', 0)} rows ({percent:.2f}% of data)\"\u001b[39m)\n\u001b[32m---> \u001b[39m\u001b[32m43\u001b[39m     merged.dropna(subset=[\u001b[33m\"lon\"\u001b[39m, \u001b[33m\"lat\"\u001b[39m], inplace=\u001b[38;5;28;01mTrue\u001b[39;00m)\n\u001b[32m     44\u001b[39m \n\u001b[32m     45\u001b[39m     \u001b[38;5;28;01mreturn\u001b[39;00m merged\n",
      "\u001b[32m~/Projects/UW/NPY_Finals/.venv/lib/python3.11/site-packages/pandas/core/frame.py\u001b[39m in \u001b[36m?\u001b[39m\u001b[34m(self, axis, how, thresh, subset, inplace, ignore_index)\u001b[39m\n\u001b[32m   6673\u001b[39m             ax = self._get_axis(agg_axis)\n\u001b[32m   6674\u001b[39m             indices = ax.get_indexer_for(subset)\n\u001b[32m   6675\u001b[39m             check = indices == -\u001b[32m1\u001b[39m\n\u001b[32m   6676\u001b[39m             \u001b[38;5;28;01mif\u001b[39;00m check.any():\n\u001b[32m-> \u001b[39m\u001b[32m6677\u001b[39m                 \u001b[38;5;28;01mraise\u001b[39;00m KeyError(np.array(subset)[check].tolist())\n\u001b[32m   6678\u001b[39m             agg_obj = self.take(indices, axis=agg_axis)\n\u001b[32m   6679\u001b[39m \n\u001b[32m   6680\u001b[39m         \u001b[38;5;28;01mif\u001b[39;00m thresh \u001b[38;5;28;01mis\u001b[39;00m \u001b[38;5;28;01mnot\u001b[39;00m lib.no_default:\n",
      "\u001b[31mKeyError\u001b[39m: ['lon', 'lat']"
     ]
    }
   ],
   "source": [
    "from alco_analysis.heat_map import create_heatmap\n",
    "\n",
    "heatmap = create_heatmap(df_conc, df_cities, df_events, output_folder)\n",
    "heatmap"
   ]
  }
 ],
 "metadata": {
  "kernelspec": {
   "display_name": ".venv",
   "language": "python",
   "name": "python3"
  },
  "language_info": {
   "codemirror_mode": {
    "name": "ipython",
    "version": 3
   },
   "file_extension": ".py",
   "mimetype": "text/x-python",
   "name": "python",
   "nbconvert_exporter": "python",
   "pygments_lexer": "ipython3",
   "version": "3.11.12"
  }
 },
 "nbformat": 4,
 "nbformat_minor": 5
}
